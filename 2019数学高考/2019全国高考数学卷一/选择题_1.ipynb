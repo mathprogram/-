{
 "cells": [
  {
   "cell_type": "markdown",
   "metadata": {},
   "source": [
    "# 选择题_1 "
   ]
  },
  {
   "cell_type": "markdown",
   "metadata": {},
   "source": [
    "## 题干"
   ]
  },
  {
   "cell_type": "markdown",
   "metadata": {},
   "source": [
    "![](https://ws1.sinaimg.cn/large/a78575bdgy1g3tldnbq8qj20de03mt8w.jpg)"
   ]
  },
  {
   "cell_type": "markdown",
   "metadata": {},
   "source": [
    "## 方法一"
   ]
  },
  {
   "cell_type": "code",
   "execution_count": 4,
   "metadata": {},
   "outputs": [
    {
     "name": "stdout",
     "output_type": "stream",
     "text": [
      "示例一元二次方程：x^2-x-6<0\n",
      "方程有两个实根:X1=-2.000000,X2=3.000000\n",
      "-2.0 3.0\n",
      "程序耗时0.000000秒.\n"
     ]
    }
   ],
   "source": [
    "## 先求解一元二次不等式方程的根\n",
    "import time\n",
    "import numpy as np\n",
    "\n",
    "def solve_quad(a,b,c):\n",
    "    if a == 0:\n",
    "        print('您输入的不是二次方程!')\n",
    "    else:\n",
    "        delta = b*b-4*a*c\n",
    "        x = -b/(2*a)\n",
    "        if delta == 0:\n",
    "            print('方程有惟一解，X=%f'%(x))\n",
    "            return x\n",
    "        elif delta > 0:\n",
    "            x1 = x-np.sqrt(delta)/(2*a)\n",
    "            x2 = x+np.sqrt(delta)/(2*a)\n",
    "            print('方程有两个实根:X1=%f,X2=%f'%(x1,x2))\n",
    "            return x1,x2\n",
    "        else:\n",
    "            x1 = (-b+complex(0,1)*np.sqrt((-1)*delta))/(2*a)\n",
    "            x2 = (-b-complex(0,1)*np.sqrt((-1)*delta))/(2*a)\n",
    "            print('方程有两个虚根，如下所示：')\n",
    "            print(x1,x2)\n",
    "            return x1,x2\n",
    "if __name__ == \"__main__\":\n",
    "    start_time = time.time() # 开始时间\n",
    "    print(\"示例一元二次方程：x^2-x-6 = 0\")\n",
    "    a = 1\n",
    "    b = -1\n",
    "    c = -6\n",
    "    x1,x2=solve_quad(a,b,c)\n",
    "    print(x1,x2)\n",
    "    end_time = time.time() #结束时间\n",
    "    print(\"程序耗时%f秒.\" % (end_time - start_time))"
   ]
  },
  {
   "cell_type": "code",
   "execution_count": 35,
   "metadata": {},
   "outputs": [
    {
     "name": "stdout",
     "output_type": "stream",
     "text": [
      "示例一元二次方程：y^2 =  x^2-x-6 \n"
     ]
    },
    {
     "data": {
      "image/png": "[encoded data removed]",
      "text/plain": [
       "<Figure size 720x432 with 1 Axes>"
      ]
     },
     "metadata": {},
     "output_type": "display_data"
    }
   ],
   "source": [
    "## 图示法\n",
    "import numpy as np\n",
    "import matplotlib.pyplot as plt\n",
    "# 设置绘图风格\n",
    "plt.style.use('ggplot')\n",
    "# 设置中文编码和负号的正常显示\n",
    "plt.rcParams['font.sans-serif'] = 'Microsoft YaHei'\n",
    "plt.rcParams['axes.unicode_minus'] = False\n",
    "plt.rcParams['font.sans-serif']=['SimHei'] ##字体，避免中文乱码\n",
    "# 设置图框的大小\n",
    "fig = plt.figure(figsize=(10,6))\n",
    "\n",
    "print(\"示例一元二次方程：y^2 =  x^2-x-6 \")\n",
    "\n",
    "x = np.linspace(-10, 10, 100)  # 线性生成值\n",
    "y = x*x -x -6          #\n",
    "plt.plot(x, y, marker='o', markevery=10, color='red')              # plot(横坐标列表，纵坐标列表)\n",
    "plt.vlines(x=-4,ymin= 0,ymax= 100, colors = \"c\", linestyles = \"dashed\")\n",
    "plt.vlines(x=2,ymin= 0,ymax= 100, colors = \"c\", linestyles = \"dashed\")\n",
    "\n",
    "plt.vlines(x=-2,ymin= 0,ymax= 100, colors = \"k\", linestyles = \"solid\")\n",
    "plt.vlines(x=3,ymin= 0,ymax= 100, colors = \"k\", linestyles = \"solid\")\n",
    "\n",
    "plt.show()                   # 显示窗口(figure)"
   ]
  }
 ],
 "metadata": {
  "kernelspec": {
   "display_name": "Python 3",
   "language": "python",
   "name": "python3"
  },
  "language_info": {
   "codemirror_mode": {
    "name": "ipython",
    "version": 3
   },
   "file_extension": ".py",
   "mimetype": "text/x-python",
   "name": "python",
   "nbconvert_exporter": "python",
   "pygments_lexer": "ipython3",
   "version": "3.6.5"
  },
  "latex_envs": {
   "LaTeX_envs_menu_present": true,
   "autoclose": false,
   "autocomplete": true,
   "bibliofile": "biblio.bib",
   "cite_by": "apalike",
   "current_citInitial": 1,
   "eqLabelWithNumbers": true,
   "eqNumInitial": 1,
   "hotkeys": {
    "equation": "Ctrl-E",
    "itemize": "Ctrl-I"
   },
   "labels_anchors": false,
   "latex_user_defs": false,
   "report_style_numbering": false,
   "user_envs_cfg": false
  },
  "toc": {
   "base_numbering": 1,
   "nav_menu": {},
   "number_sections": true,
   "sideBar": true,
   "skip_h1_title": false,
   "title_cell": "Table of Contents",
   "title_sidebar": "Contents",
   "toc_cell": false,
   "toc_position": {},
   "toc_section_display": true,
   "toc_window_display": false
  }
 },
 "nbformat": 4,
 "nbformat_minor": 2
}
