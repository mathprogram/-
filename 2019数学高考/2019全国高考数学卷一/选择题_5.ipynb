{
 "cells": [
  {
   "cell_type": "markdown",
   "metadata": {},
   "source": [
    "# 选择题_5"
   ]
  },
  {
   "cell_type": "markdown",
   "metadata": {},
   "source": [
    "## 题干"
   ]
  },
  {
   "cell_type": "markdown",
   "metadata": {},
   "source": [
    "![](https://ws1.sinaimg.cn/large/a78575bdgy1g3tnienheyj20gp07lt9q.jpg)"
   ]
  },
  {
   "cell_type": "markdown",
   "metadata": {},
   "source": [
    "## 解析"
   ]
  },
  {
   "cell_type": "markdown",
   "metadata": {},
   "source": [
    "### 方法一：图示法"
   ]
  },
  {
   "cell_type": "code",
   "execution_count": 27,
   "metadata": {},
   "outputs": [
    {
     "data": {
      "image/png": "[encoded data removed]",
      "text/plain": [
       "<Figure size 720x432 with 1 Axes>"
      ]
     },
     "metadata": {},
     "output_type": "display_data"
    }
   ],
   "source": [
    "import numpy as np\n",
    "import matplotlib.pyplot as plt\n",
    "plt.rcParams['font.sans-serif']=['SimHei']#用来正常显示中文标签\n",
    "plt.rcParams['axes.unicode_minus']=False#用来正常显示负号\n",
    "\n",
    "x = np.linspace(-10, 10, 100)\n",
    "y = (np.sin(x) + x)/(np.cos(x)+x*x)\n",
    "\n",
    "plt.figure(figsize = (10, 6))\n",
    "plt.plot(x,y,label='$(sin x+x)/(cos+x^2)$', color = 'red', linewidth = 2)\n",
    "plt.xlabel('x')\n",
    "plt.ylabel('y')\n",
    "plt.vlines(x=0,ymin= -10,ymax= 10, colors = \"k\", linestyles = \"solid\")\n",
    "plt.hlines(y=0,xmin= -10,xmax= 10, colors = \"k\", linestyles = \"solid\")\n",
    "\n",
    "\n",
    "plt.legend(loc='best')\n",
    "plt.title('A Sample Example')\n",
    "plt.show()"
   ]
  },
  {
   "cell_type": "markdown",
   "metadata": {},
   "source": [
    "## 方法二：选择题：特殊值法"
   ]
  },
  {
   "cell_type": "code",
   "execution_count": 32,
   "metadata": {},
   "outputs": [
    {
     "name": "stdout",
     "output_type": "stream",
     "text": [
      "x取特殊值[-1,0,1]\n",
      "x,y的值分别是 x:-1,y:-1.1955256950485529\n",
      "x,y的值分别是 x:0,y:0.0\n",
      "x,y的值分别是 x:1,y:1.1955256950485529\n",
      "----------------------------------------------------------------------------------------------------\n",
      "x取特殊值[-3.14,0,3.14]\n",
      "x,y的值分别是 x:-3.14,y:-0.3545975216928772\n",
      "x,y的值分别是 x:0,y:0.0\n",
      "x,y的值分别是 x:3.14,y:0.3545975216928772\n"
     ]
    }
   ],
   "source": [
    "print('x取特殊值[-1,0,1]')\n",
    "for x in [-1,0,1]:\n",
    "    y = (np.sin(x) + x)/(np.cos(x)+x*x)\n",
    "    print('x,y的值分别是 x:{x},y:{y}'.format(x=x,y=y))\n",
    "    \n",
    "print('-'*100)    \n",
    "print('x取特殊值[-3.14,0,3.14]')\n",
    "for x in [-3.14,0,3.14]:\n",
    "    y = (np.sin(x) + x)/(np.cos(x)+x*x)\n",
    "    print('x,y的值分别是 x:{x},y:{y}'.format(x=x,y=y))"
   ]
  }
 ],
 "metadata": {
  "kernelspec": {
   "display_name": "Python 3",
   "language": "python",
   "name": "python3"
  },
  "language_info": {
   "codemirror_mode": {
    "name": "ipython",
    "version": 3
   },
   "file_extension": ".py",
   "mimetype": "text/x-python",
   "name": "python",
   "nbconvert_exporter": "python",
   "pygments_lexer": "ipython3",
   "version": "3.6.5"
  },
  "latex_envs": {
   "LaTeX_envs_menu_present": true,
   "autoclose": false,
   "autocomplete": true,
   "bibliofile": "biblio.bib",
   "cite_by": "apalike",
   "current_citInitial": 1,
   "eqLabelWithNumbers": true,
   "eqNumInitial": 1,
   "hotkeys": {
    "equation": "Ctrl-E",
    "itemize": "Ctrl-I"
   },
   "labels_anchors": false,
   "latex_user_defs": false,
   "report_style_numbering": false,
   "user_envs_cfg": false
  },
  "toc": {
   "base_numbering": 1,
   "nav_menu": {},
   "number_sections": true,
   "sideBar": true,
   "skip_h1_title": false,
   "title_cell": "Table of Contents",
   "title_sidebar": "Contents",
   "toc_cell": false,
   "toc_position": {},
   "toc_section_display": true,
   "toc_window_display": false
  }
 },
 "nbformat": 4,
 "nbformat_minor": 2
}
